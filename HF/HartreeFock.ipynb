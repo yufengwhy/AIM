{
  "nbformat": 4,
  "nbformat_minor": 0,
  "metadata": {
    "kernelspec": {
      "display_name": "Python 3",
      "language": "python",
      "name": "python3"
    },
    "language_info": {
      "codemirror_mode": {
        "name": "ipython",
        "version": 3
      },
      "file_extension": ".py",
      "mimetype": "text/x-python",
      "name": "python",
      "nbconvert_exporter": "python",
      "pygments_lexer": "ipython3",
      "version": "3.7.3"
    },
    "toc-autonumbering": true,
    "colab": {
      "name": "“HartreeFock.ipynb",
      "provenance": [],
      "include_colab_link": true
    }
  },
  "cells": [
    {
      "cell_type": "markdown",
      "metadata": {
        "id": "view-in-github",
        "colab_type": "text"
      },
      "source": [
        "<a href=\"https://colab.research.google.com/github/yufengwhy/AIM/blob/main/HF/HartreeFock.ipynb\" target=\"_parent\"><img src=\"https://colab.research.google.com/assets/colab-badge.svg\" alt=\"Open In Colab\"/></a>"
      ]
    },
    {
      "cell_type": "markdown",
      "metadata": {
        "id": "fuSiGVbIW8ki"
      },
      "source": [
        "# Hartree Fock"
      ]
    },
    {
      "cell_type": "code",
      "metadata": {
        "id": "wy7gi6HqW8kk",
        "colab": {
          "base_uri": "https://localhost:8080/"
        },
        "outputId": "1609ac60-ccc2-4b64-eb99-fdc647b7b6f5"
      },
      "source": [
        "import sys\n",
        "import numpy as np\n",
        "\n",
        "def symmetrise(Mat): # Symmetrize a matrix given a triangular one\n",
        "    return Mat + Mat.T - np.diag(Mat.diagonal())\n",
        "\n",
        "def eint(a,b,c,d): # Return compound index given four indices using Yoshimine sort\n",
        "    if a > b: ab = a*(a+1)/2 + b\n",
        "    else: ab = b*(b+1)/2 + a\n",
        "    if c > d: cd = c*(c+1)/2 + d\n",
        "    else: cd = d*(d+1)/2 + c\n",
        "    if ab > cd: abcd = ab*(ab+1)/2 + cd\n",
        "    else: abcd = cd*(cd+1)/2 + ab\n",
        "\n",
        "    return abcd\n",
        "\n",
        "def tei(a, b, c, d): # Return value of two electron integral\n",
        "    return twoe.get(eint(a, b, c, d), 0) \n",
        "\n",
        "def fprime(X, F): # Put Fock matrix in orthonormal AO basis\n",
        "    return np.dot(np.transpose(X), np.dot(F, X)) \n",
        "\n",
        "def makedensity(C, D, dim, Nelec): # Make density matrix and store old one to test for convergence\n",
        "    Dold = np.zeros((dim, dim))\n",
        "    for mu in range(0, dim):\n",
        "        for nu in range(0, dim):\n",
        "            Dold[mu,nu] = D[mu, nu]\n",
        "            D[mu,nu] = 0\n",
        "            for m in range(0, int(Nelec/2)):\n",
        "                D[mu,nu] = D[mu,nu] + 2*C[mu,m]*C[nu,m]\n",
        "\n",
        "    return D, Dold \n",
        "\n",
        "def makefock(Hcore, P, dim): # Make Fock Matrix\n",
        "    F = np.zeros((dim, dim))\n",
        "    for i in range(0, dim):\n",
        "        for j in range(0, dim):\n",
        "            F[i,j] = Hcore[i,j]\n",
        "            for k in range(0, dim):\n",
        "                for l in range(0, dim):\n",
        "                    F[i,j] = F[i,j] + P[k,l]*(tei(i+1,j+1,k+1,l+1)-0.5*tei(i+1,k+1,j+1,l+1))\n",
        "    \n",
        "    return F \n",
        "\n",
        "def deltap(D, Dold): # Calculate change in density matrix using Root Mean Square Deviation (RMSD)\n",
        "    DELTA = 0.0\n",
        "    for i in range(0, dim):\n",
        "        for j in range(0, dim):\n",
        "            DELTA = DELTA + ((D[i,j] - Dold[i,j])**2)\n",
        "\n",
        "    return (DELTA)**(0.5)\n",
        "\n",
        "def currentenergy(D, Hcore, F, dim): # Calculate energy at iteration\n",
        "    EN = 0\n",
        "    for mu in range(0, dim):\n",
        "        for nu in range(0, dim):\n",
        "            EN += 0.5*D[mu,nu]*(Hcore[mu,nu] + F[mu,nu])\n",
        "            \n",
        "    return EN\n",
        "\n",
        "Nelec = 2 # The number of electrons in our system \n",
        "ENUC = np.genfromtxt('https://raw.githubusercontent.com/adambaskerville/adambaskerville.github.io/master/_posts/HartreeFockCode/enuc.dat',dtype=float, delimiter=',') # ENUC = nuclear repulsion, \n",
        "Sraw = np.genfromtxt('https://raw.githubusercontent.com/adambaskerville/adambaskerville.github.io/master/_posts/HartreeFockCode/s.dat',dtype=None)                    # Sraw is overlap matrix, \n",
        "Traw = np.genfromtxt('https://raw.githubusercontent.com/adambaskerville/adambaskerville.github.io/master/_posts/HartreeFockCode/t.dat',dtype=None)                    # Traw is kinetic energy matrix,\n",
        "Vraw = np.genfromtxt('https://raw.githubusercontent.com/adambaskerville/adambaskerville.github.io/master/_posts/HartreeFockCode/v.dat',dtype=None)                    # Vraw is potential energy matrix\n",
        "\n",
        "dim = 2 # dim is the number of basis functions \n",
        "S = np.zeros((dim, dim)) # Initialize integrals, and put them in a Numpy array\n",
        "T = np.zeros((dim, dim))\n",
        "V = np.zeros((dim, dim))\n",
        "\n",
        "for i in Sraw: S[i[0]-1, i[1]-1] = i[2] # Put the integrals into a matrix \n",
        "for i in Traw: T[i[0]-1, i[1]-1] = i[2] # Put the integrals into a matrix\n",
        "for i in Vraw: V[i[0]-1, i[1]-1] = i[2] # Put the integrals into a matrix\n",
        "\n",
        "S            = symmetrise(S) # Flip the triangular matrix in the diagonal \n",
        "V            = symmetrise(V) # Flip the triangular matrix in the diagonal\n",
        "T            = symmetrise(T) # Flip the triangular matrix in the diagonal\n",
        "TEI          = np.genfromtxt('https://raw.githubusercontent.com/adambaskerville/adambaskerville.github.io/master/_posts/HartreeFockCode/two_elec_int.dat') # Load two electron integrals\n",
        "twoe         = {eint(row[0], row[1], row[2], row[3]) : row[4] for row in TEI} # Put in python dictionary\n",
        "Hcore        = T + V # Form core Hamiltonian matrix as sum of one electron kinetic energy, T and potential energy, V matrices\n",
        "SVAL, SVEC   = np.linalg.eigh(S) # Diagonalize basis using symmetric orthogonalization \n",
        "SVAL_minhalf = (np.diag(SVAL**(-0.5))) # Inverse square root of eigenvalues\n",
        "S_minhalf    = np.dot(SVEC, np.dot(SVAL_minhalf, np.transpose(SVEC)))\n",
        "P            = np.zeros((dim, dim)) # P represents the density matrix, Initially set to zero.\n",
        "DELTA        = 1 # Set placeholder value for delta\n",
        "count        = 0 # Count how many SCF cycles are done, N(SCF)\n",
        "\n",
        "while DELTA > 0.00001:\n",
        "    count     += 1                             # Add one to number of SCF cycles counter\n",
        "    F         = makefock(Hcore, P, dim)        # Calculate Fock matrix, F\n",
        "    Fprime    = fprime(S_minhalf, F)           # Calculate transformed Fock matrix, F'\n",
        "    E, Cprime = np.linalg.eigh(Fprime)         # Diagonalize F' matrix\n",
        "    C         = np.dot(S_minhalf, Cprime)      # 'Back transform' the coefficients into original basis using transformation matrix\n",
        "    P, OLDP   = makedensity(C, P, dim, Nelec)  # Make density matrix\n",
        "    DELTA     = deltap(P, OLDP)                # Test for convergence. If criteria is met exit loop and calculate properties of interest\n",
        "    \n",
        "    print(\"E = {:.6f}, N(SCF) = {}\".format(currentenergy(P, Hcore, F, dim) + ENUC, count))\n",
        "\n",
        "print(\"SCF procedure complete, TOTAL E(SCF) = {} hartrees\".format(currentenergy(P, Hcore, F, dim) + ENUC))\n",
        "\n",
        "\n"
      ],
      "execution_count": null,
      "outputs": [
        {
          "output_type": "stream",
          "text": [
            "E = -1.791234, N(SCF) = 1\n",
            "E = -1.116638, N(SCF) = 2\n",
            "SCF procedure complete, TOTAL E(SCF) = -1.1166381218483432 hartrees\n"
          ],
          "name": "stdout"
        }
      ]
    }
  ]
}